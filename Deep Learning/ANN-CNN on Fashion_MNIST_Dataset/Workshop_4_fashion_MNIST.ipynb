{
  "nbformat": 4,
  "nbformat_minor": 0,
  "metadata": {
    "colab": {
      "name": "Workshop 4_fashion_MNIST.ipynb",
      "version": "0.3.2",
      "provenance": [],
      "collapsed_sections": []
    },
    "kernelspec": {
      "name": "python3",
      "display_name": "Python 3"
    },
    "accelerator": "GPU"
  },
  "cells": [
    {
      "metadata": {
        "id": "XJNQ-Jv5qwgA",
        "colab_type": "text"
      },
      "cell_type": "markdown",
      "source": [
        "# Deep Learning with Keras, CNN\n",
        "\n",
        "Github link: https://github.com/aisutd/Spring19_Workshop4\n",
        "\n",
        "\n",
        "This Jupyter notebook contains code and explanations for the 2019 AIS Deep Learning workshop. This tutorial focuses on training neural networks to recognize elements from fashion_ MNIST dataset.\n",
        "\n",
        "## **WHAT IS DEEP LEARNING?**\n",
        "<img src='https://www2.argility.com/wp-content/uploads/2018/04/image10.png' height=\"400\" width=\"400\"/>\n",
        "\n",
        "image source: https://www2.argility.com/wp-content/uploads/2018/04/image10.png\n",
        "\n",
        "\n",
        "\n",
        "\n",
        "\n",
        "\n",
        "\n",
        "\n",
        "\n",
        "\n",
        "\n",
        "\n",
        "\n",
        "\n",
        "\n",
        "\n",
        "\n",
        "\n"
      ]
    },
    {
      "metadata": {
        "id": "rJhIeNXt5tz8",
        "colab_type": "text"
      },
      "cell_type": "markdown",
      "source": [
        "## What is Deep Learning? What are Neural Networks?\n",
        "Deep learning is a subfield of machine learning focused on using biologically-inspired models known as **neural networks** to solve a wide range of machine learning problems. At a high-level, neural networks are basically **mathematical models** that are based roughly on neurological concepts in **human learning**. \n",
        "\n",
        "## The Three Key Components of Neural Networks\n",
        "Neural networks can be a slightly challenging concept to grasp since they involve a mix of ideas from math, computer science, and even neuroscience. There is a lot of technical information in this workshop, so I would recommend focusing on gaining a high-level understanding of **three fundamental components** of neural networks:\n",
        "\n",
        "1. **Structure** - what the neural network looks like, including all the mathematical functions involved, the number of inputs and outputs, and the parameters, called **weights** that the network has to learn.\n",
        "    \n",
        "2. **Loss Function** - a metric that tells us how good or bad the network's predictions are. \n",
        "3. **Optimizer** - the algorithm used for **learning the weights** that give the network the best predictions.\n"
      ]
    },
    {
      "metadata": {
        "id": "xuMqBdfAQu2q",
        "colab_type": "text"
      },
      "cell_type": "markdown",
      "source": [
        "## About the Fashion - MNIST Dataset \n",
        "Fashion-MNIST is a dataset of [Zalando's](https://jobs.zalando.com/tech/)  article images—consisting of a training set of 60,000 examples and a test set of 10,000 examples. Each example is a 28x28 grayscale image, associated with a label from 10 classes. We intend Fashion-MNIST to serve as a direct drop-in replacement for the original MNIST dataset for benchmarking machine learning algorithms. It shares the same image size and structure of training and testing splits.\n",
        "\n",
        "\n",
        "GITHUB LINK TO THE DATASET \n",
        "\n",
        "https://github.com/zalandoresearch/fashion-mnist\n",
        "\n",
        "Sample Data\n",
        "\n",
        "<img src='https://github.com/zalandoresearch/fashion-mnist/raw/master/doc/img/fashion-mnist-sprite.png' width=\"700\" height=\"700\"/>\n",
        "\n",
        "\n",
        "\n",
        "image source : https://github.com/zalandoresearch/fashion-mnist/raw/master/doc/img/fashion-mnist-sprite.png\n",
        "\n",
        "\n",
        "\n",
        "Label\tDescription\n",
        "\n",
        "0\t       T-shirt/top\n",
        "\n",
        "1\t       Trouser\n",
        "\n",
        "2\t       Pullover\n",
        "\n",
        "3\t       Dress\n",
        "\n",
        "4\t       Coat\n",
        "\n",
        "5\t       Sandal\n",
        "\n",
        "6\t       Shirt\n",
        "\n",
        "7\t       Sneaker\n",
        "\n",
        "8\t       Bag\n",
        "\n",
        "9\t       Ankle boot\n",
        "\n",
        "\n"
      ]
    },
    {
      "metadata": {
        "id": "DVyZwdt1PAYa",
        "colab_type": "text"
      },
      "cell_type": "markdown",
      "source": [
        "## Libraries Used\n",
        "\n",
        "- **Numpy** - for handling linear algebra and numerical computations in machine learning.\n",
        "- **Matplotlib** - for visualizing data, such as images.\n",
        "- **TensorFlow** - deep learning library, acts as a backend for Keras\n",
        "- **Keras** - features a simple API for deep learning.\n",
        "- **OpenCV(CV2)** - is a library of programming functions mainly aimed at real-time computer vision.\n",
        "*   **Pandas**- An open-source library with easy to use data structures and data analysis tools for Python.\n",
        "\n",
        "\n",
        "\n",
        "\n",
        "\n",
        "## Numpy and Matrices\n",
        "Throughout this tutorial, you will see the concepts of **matrices** and **vectors** involved in the mathematical operations of neural networks. These concepts are fairly straightforward, but it may help to review them and also explain how Numpy allows us to represent matrices and vectors."
      ]
    },
    {
      "metadata": {
        "id": "tJBOPWbzxQr0",
        "colab_type": "text"
      },
      "cell_type": "markdown",
      "source": [
        "### What are vectors?\n",
        "Vectors are basically sequences of numbers. They may be represented mathematically as shown below.\n",
        "\n",
        " $\\vec{v} = \\begin{bmatrix} 1 & 2 & 3 \\end{bmatrix}$\n",
        " \n",
        "We can use Numpy to represent vectors by creating a **Numpy array** as shown below."
      ]
    },
    {
      "metadata": {
        "id": "idB3ClekxTGS",
        "colab_type": "code",
        "outputId": "1742c756-adbd-478e-c653-0be5483a9a5d",
        "colab": {
          "base_uri": "https://localhost:8080/",
          "height": 34
        }
      },
      "cell_type": "code",
      "source": [
        "import numpy as np\n",
        "vector_a = np.array([1, 2, 3])\n",
        "vector_a"
      ],
      "execution_count": 8,
      "outputs": [
        {
          "output_type": "execute_result",
          "data": {
            "text/plain": [
              "array([1, 2, 3])"
            ]
          },
          "metadata": {
            "tags": []
          },
          "execution_count": 8
        }
      ]
    },
    {
      "metadata": {
        "id": "nYQOL3gJApCQ",
        "colab_type": "text"
      },
      "cell_type": "markdown",
      "source": [
        "\n",
        "\n",
        "### Operations on Vectors - Dot Products\n",
        "The dot product is an operation where we basically take two vectors, multiply their corresponding elements, and add up all of these products. Here is an example, where we have two vectors $ \\vec{v} $ and $\\vec u $:\n",
        "\n",
        "$\\vec{v} = \\begin{bmatrix} 1 & 2 & 3 \\end{bmatrix}$ \n",
        "\n",
        "$\\vec{u} = \\begin{bmatrix} 2 & 4 & 6 \\end{bmatrix}$\n",
        "\n",
        "$\\vec{v} \\bullet \\vec{u} = (1 \\bullet 2) + (2 \\bullet 4) + (3 \\bullet 6) = 28 $\n",
        "\n",
        "We can easily compute dot products in Numpy as well."
      ]
    },
    {
      "metadata": {
        "id": "rnE8y8zOAqlp",
        "colab_type": "code",
        "outputId": "4fb865f7-1e2f-4089-eb7a-b08cca1cd8b1",
        "colab": {
          "base_uri": "https://localhost:8080/",
          "height": 34
        }
      },
      "cell_type": "code",
      "source": [
        "v = np.array([1, 2, 3])\n",
        "u = np.array([2, 4, 6])\n",
        "u.dot(v)"
      ],
      "execution_count": 9,
      "outputs": [
        {
          "output_type": "execute_result",
          "data": {
            "text/plain": [
              "28"
            ]
          },
          "metadata": {
            "tags": []
          },
          "execution_count": 9
        }
      ]
    },
    {
      "metadata": {
        "id": "AVeZAo6wxWjm",
        "colab_type": "text"
      },
      "cell_type": "markdown",
      "source": [
        "### What are matrices?\n",
        "Matrices are basically 2D tables that store numbers. In a sense, we can say that they are basically **lists** of vectors, with the vectors forming the columns or the rows of the matrix. \n",
        "\n",
        "$\\begin{bmatrix} 1 & 2 & 3 \\\\ 4 & 5 & 6 \\\\ 7 & 8 & 9 \\end{bmatrix}$\n",
        "\n",
        "We can also use Numpy to represent the matrix above by passing in a list of lists to the **Numpy array constructor**, with the inner lists representing the rows of the matrix."
      ]
    },
    {
      "metadata": {
        "id": "Rl0gZnBLxayK",
        "colab_type": "code",
        "outputId": "cc9bf746-3467-4530-b59e-5a2c34c235fd",
        "colab": {
          "base_uri": "https://localhost:8080/",
          "height": 67
        }
      },
      "cell_type": "code",
      "source": [
        "np.array([[1, 2, 3], [4, 5, 6], [7, 8, 9]])"
      ],
      "execution_count": 10,
      "outputs": [
        {
          "output_type": "execute_result",
          "data": {
            "text/plain": [
              "array([[1, 2, 3],\n",
              "       [4, 5, 6],\n",
              "       [7, 8, 9]])"
            ]
          },
          "metadata": {
            "tags": []
          },
          "execution_count": 10
        }
      ]
    },
    {
      "metadata": {
        "id": "MaVGPdxTxpuv",
        "colab_type": "text"
      },
      "cell_type": "markdown",
      "source": [
        "### Operations on Matrices - Matrix Multiplication\n",
        "Matrix multiplication is an operation that builds upon the concept of a dot product. Multiplying two matrices produces a new matrix where each element of the new matrix is a **dot product** between a **row vector** of the first matrix and a **column vector** of the second matrix. Here is an example, with two small 2 x 2 matrices:\n",
        "\n",
        "$\\begin{bmatrix} 1 & 2 \\\\ 3 & 4 \\end{bmatrix} \n",
        "\\times \\begin{bmatrix} 2 & 4 \\\\ 6 & 8 \\end{bmatrix} = \n",
        "\\begin{bmatrix} (1 \\cdot 2) + (2 \\cdot 6) & (1 \\cdot 4) + (2 \\cdot 8) \\\\ \n",
        "(3 \\cdot 2) + (4 \\cdot 6) & (3 \\cdot 4) + (4 \\cdot 8) \\end{bmatrix} =\n",
        "\\begin{bmatrix} 14 & 20 \\\\ 30 & 44 \\end{bmatrix}$ \n",
        "\n",
        "\n",
        "\n",
        "![matrix-multiplication](https://docs.google.com/uc?export=download&id=16TU3tOM0qvOjvgCYrFUiJrA_dI3NVEyU)"
      ]
    },
    {
      "metadata": {
        "id": "SQ5T2Py7xrIZ",
        "colab_type": "code",
        "outputId": "431eb9ca-211a-4cae-a193-7522e2419f0f",
        "colab": {
          "base_uri": "https://localhost:8080/",
          "height": 50
        }
      },
      "cell_type": "code",
      "source": [
        "matrix_a = np.array([[1, 2], [3, 4]])\n",
        "matrix_b = np.array([[2, 4], [6, 8]])\n",
        "matrix_a @ matrix_b"
      ],
      "execution_count": 11,
      "outputs": [
        {
          "output_type": "execute_result",
          "data": {
            "text/plain": [
              "array([[14, 20],\n",
              "       [30, 44]])"
            ]
          },
          "metadata": {
            "tags": []
          },
          "execution_count": 11
        }
      ]
    },
    {
      "metadata": {
        "id": "aiWsn8XkA4R2",
        "colab_type": "text"
      },
      "cell_type": "markdown",
      "source": [
        "## **Vector dot product and Matrix Multiplication in Deep Learning **\n",
        "\n",
        "For really large datasets we need high-performance computers for deep learning because **matrix multiplication is computationally expensive**. We don't need to know how to do these operations by hand because software libraries will take care of that for us, but we should still be aware of these operations."
      ]
    },
    {
      "metadata": {
        "id": "tQ2XGNSq5TBk",
        "colab_type": "text"
      },
      "cell_type": "markdown",
      "source": [
        "## Importing Numpy and Matplotlib\n",
        "Here we will go ahead and import Numpy and Matplotlib, two libraries that are useful for dealing with our image data.\n"
      ]
    },
    {
      "metadata": {
        "id": "EZn4r1qnHlMj",
        "colab_type": "code",
        "colab": {}
      },
      "cell_type": "code",
      "source": [
        "import numpy as np\n",
        "import pandas as pd\n",
        "import matplotlib.pyplot as plt\n",
        "%matplotlib inline\n",
        "import cv2\n"
      ],
      "execution_count": 0,
      "outputs": []
    },
    {
      "metadata": {
        "id": "2KKdrfDL6Vkn",
        "colab_type": "text"
      },
      "cell_type": "markdown",
      "source": [
        "## Structure of Neural Networks - A Biology and Math Lesson\n",
        "As we mentioned before neural networks are **biologically inspired** models. For a moment, let's forget about machine learning and review how the human nervous system works to understand where the concept of neural networks came from. A **neuron**, the fundamental unit of this system, looks something like this:\n",
        "\n",
        "![neuron](https://docs.google.com/uc?export=download&id=1p4GXVP-B0yz7NtpOW82G3AmdUCqU_OFI)\n",
        "\n",
        "(image source: http://home.agh.edu.pl/~vlsi/AI/intro/)\n",
        "\n",
        "### Key Parts of the Neuron\n",
        "A neuron transmits electrical signals that are constantly activated as the human brain learns and recognizes new concepts. The main parts of a neuron that we should take note of are:\n",
        "\n",
        "- **inputs** - the neuron receives several input signals through **dendrites** from connections to neighboring neurons. \n",
        "- **synapses** - gaps between **axons** and **dendrites**. Synapses transfer signals between neurons.\n",
        "- **body** - the neuron has a cell body that receives all of the incoming signals.\n",
        "- **axon** - a long connection that transmits an electrical signal **output**.\n",
        "- **activation threshold** - neurons fire when electrical activity exceeds a certain threshold.\n",
        "\n",
        "\n",
        "### The Simplest Neural Network - The Perceptron\n",
        "The perceptron, arguably the simplest neural network, was invented by psychologist Frank Rosenblatt in 1957 and looks something like this:\n",
        "![perceptron](https://docs.google.com/uc?export=download&id=1SbHK9XPrP1PSO9T-lh9uG9CTCNjdXhU1)\n",
        "\n",
        "(image source: http://ataspinar.com/2016/12/22/the-perceptron/)\n",
        "\n",
        "A perceptron is basically a neural network with a single **artificial neuron**. Similar to the biological neuron, a perceptron has the following characteristics:\n",
        "\n",
        "- **inputs** - the perceptron receives a given number of real-valued inputs (the inputs are numbers).\n",
        "- **weights** - the perceptron has a weight $ w_i $ associated with each input $ x_i $. These weighted connections are like synapses and they are parameters that the perceptron must \"learn\".\n",
        "- **weighted sum (basically a dot product)** - the inputs are multiplied by the weights and the results are added together to produce a weighted sum.\n",
        "- **activation function** - the perceptron has an activation function called the unit-step function that produces an output of 1 if the weighted sum is greater than some threshold $\\theta$ and -1 otherwise.\n",
        "\n",
        "### The Math Behind the Perceptron Output\n",
        "Given a vector of inputs $x = (x_0, x_1, ..., x_n) $, a set of weights $w = (w_0, w_1, ..., w_n) $, and an activation threshold $\\theta$ the output of a perceptron is given by the following function:\n",
        "\n",
        "$$ f(x) = \\begin{cases} 1 & \\  \\mbox{if} \\  w \\cdot x \\geq \\theta  \\\\ -1 & \\text{otherwise} \\end{cases} $$\n",
        "\n",
        "### Example with Real Numbers\n",
        "![perceptron_example](https://docs.google.com/uc?export=download&id=1N1aizUfyLNYASghAaYhOD47fMvsigQBm)\n",
        "\n",
        "### What kind of problems can the Perceptron solve?\n",
        "The Perceptron is designed to solve **binary classification problems**. By learning the best weights for a given problem, the Perceptron can be used to classify a set of inputs into one of two possible outputs. However, the Perceptron is very limited in scope because not only is it limited to solving binary classification problems, but it can only find the optimal weights for **linearly separable** binary classification problems. These are problems where a straight line or multi-dimensional hyperplane can simply separate the two classes.\n",
        "\n",
        "![perceptron_limitation](https://docs.google.com/uc?export=download&id=1enqoFHbVPoQE8JS1sCjt7Ae-8gk_1ut0)\n",
        "\n",
        "(image source: http://qingkaikong.blogspot.com/2016/11/machine-learning-5-artificial-neural.html)\n",
        "\n",
        "### Deep Neural Networks - Densely Connected Hidden Layers\n",
        "Deep neural networks are much more complex than the simple perceptron and feature multiple layers of neurons and several **densely connected hidden layers** between the input and output layers. Here is what a deep neural network looks like:\n",
        "\n",
        "![deep_net](https://docs.google.com/uc?export=download&id=1CHivQC9q4azyM3z95G3zQY5-onsPWxTb)\n",
        "\n",
        "Looking at the example above we can see that the neural network has an **input layer** with **three inputs**, two **hidden layers**, and an **output layer** with a **single output**.\n",
        "\n",
        "#### What is a densely connected layer?\n",
        "In a densely connected layer, each neuron from the group of neurons on the left is connected to every other neuron from the group of neurons on the right. In the example above, **hidden layer 1** is densely connected because every neuron from the **input layer** is connected to every neuron in **hidden layer 1**. Each connection between the layers has a numerical weight attached to it.\n",
        "\n",
        "Here is an example with real numbers. Notice that the value in each of the output neurons is the **weighted sum** of the values from the **incoming inputs**.\n",
        "\n",
        "![hidden_layer_examples](https://docs.google.com/uc?export=download&id=1rJ8j-u54b_Jj1-oQ4gAwo4267fsIObkB)\n",
        "\n",
        "The computation that we did above is basically just a matrix multiplication.\n",
        "\n",
        "$\\begin{bmatrix} 1 & 2 \\end{bmatrix} \n",
        "\\times \\begin{bmatrix} 1 & 0.5 & 2 \\\\ 1 & 0.5 & 2 \\end{bmatrix}\n",
        "= \\begin{bmatrix} 3 & 1.5 & 6 \\end{bmatrix}$\n",
        "\n",
        "The matrix multiplication above is basically:\n",
        "$ inputs \\times weights = outputs $\n",
        " \n",
        "#### The Sigmoid Activation Function\n",
        "After multiplying the weights from the input layer by the inputs and computing the sum in each output neuron we still have one more step left to do, and that is applying an activation function to the outputs. In the Perceptron example, we used a unit-step function as our activation function, but for deep neural networks, we can introduce another activation function, called the **sigmoid or logistic function**. The function is defined mathematically by the following equation:\n",
        " \n",
        "\\begin{equation*}\n",
        "\\phi (z) = \\frac {1} {1+e^{-z}}\n",
        "\\end{equation*}\n",
        "\n",
        "What's special about this function is that it is really useful for representing **probabilities** since it takes **any real number as input** and **outputs a value between 0 and 1**. Take a look at a graph of the function below to see what this concept looks like:\n",
        "\n",
        "![sigmoid_graph](https://docs.google.com/uc?export=download&id=1dMZ5Mhn0jQDQZ_SW4DBau_OBl6xlROhF)\n",
        "\n",
        "If we were to apply the **sigmoid activation function** to our hidden layer in the previous example, the final values would look like this:\n",
        "\n",
        "![sigmoid_activation_applied](https://docs.google.com/uc?export=download&id=1goOUYMUIOBNdIJqHflqdPgvM7PhhRmWy)\n",
        "\n",
        "#### The Softmax Activation Function\n",
        "Another activation function, which we usually see at the final or output layer of neural networks is the **softmax activation function**. Unlike the sigmoid activation function, which takes a single value as input, the **softmax function** takes a **vector as input** and produces a **vector of the same shape as the output**. In a way, this function basically acts on an entire layer. The softmax function basically converts a vector of real values into a **probability distribution** and is useful for representing the probabilities of different classes. This function is defined mathematically below:\n",
        "\n",
        "Given a vector $z = (z_{1}, z_{2}, ..., z_{n})$, the result of applying softmax $\\sigma(z)$, is defined as:\n",
        "\n",
        "$$ \\sigma(z)_{i} = \\frac{e^{z_{i}}}{\\sum_{j=1}^n e^{z_{j}}}$$\n",
        "\n",
        "In **plain english**, what the equation above really means is that to get the softmax of a vector, **we raise $e$ to the power of each value in the vector and sum up the results**. Then for each value, **we raise $e$ to the power of that value and divide it by this sum**. This process guarantees that all of the values will **sum up to 1**. (Note that the natural constant $e$, is approximately equal to 2.71828)\n",
        "\n",
        "#### An Example with Real Numbers \n",
        "If we took the values from our output layer in the previous example before applying sigmoid and instead applied softmax, we would calculate the softmax as follows:\n",
        "\n",
        "Our input vector is $z = \\begin{bmatrix} 3 & 1.5 & 6 \\end{bmatrix}$. If we calculate the sum of raising $e$ to the power of each value, we get $e^3 + e^{1.5} + e^6 \\approx 427.996$. Now for each value we just raise $e$ to the power of that value and divide it by our previous sum. \n",
        "\n",
        "$$\\frac{e^{3}}{427.996} \\approx 0.04692926$$\n",
        "\n",
        "$$\\frac{e^{1.5}}{427.996} \\approx 0.01047133$$\n",
        "\n",
        "$$\\frac{e^{6}}{427.996} \\approx 0.94259941$$\n",
        "\n",
        "\n",
        "So the final result is $\\sigma(z) = \\begin{bmatrix} 0.04692926 & 0.01047133 & 0.94259941\\end{bmatrix}$\n",
        "\n",
        "#### Why Softmax??\n",
        "Softmax is useful because it allows us to represent probabilities. In our problem, we have ten possible digits that an image can correspond to. Sometimes there is a little bit of uncertainty involved in the category that an image belongs to and even humans can see this when we can't tell if someone has drawn a one or a seven. For this problem, we want our neural network to produce not one but **ten outputs** with each output corresponding to the **probability** of an image corresponding to a specific digit. The following example image is not specific to the MNIST problem, but demonstrates the idea of using softmax for probabilities: \n",
        "\n",
        "![softmax_dog_cat](https://docs.google.com/uc?export=download&id=18Z83xA4IA3aTm_KTqOQUtQ2U6PUh0sCe)\n",
        "\n",
        "(image source: https://www.superdatascience.com/convolutional-neural-networks-cnn-softmax-cross-entropy/)\n",
        "\n",
        "### Defining the Structure of a Neural Network for the Fashion MNIST Problem\n",
        "Now that we understand the parts of a deep neural network, we can design one for our problem. \n",
        "\n",
        "#### Inputs\n",
        "Each image in the dataset is 28 x 28 pixels. Because the input for deep neural networks that we have described must vectors, we will have to flatten each image from 28 x 28 pixels to a vector of 784 pixel values. \n",
        "\n",
        "![MNIST-flatten](https://docs.google.com/uc?export=download&id=1TATTUqMb6Q9WeMi8XrIeqYpkYJ0r-pYj)\n",
        "\n",
        "#### Hidden Layers\n",
        "Our input layer contains 784 values. We can stack two hidden layers together after this input layer, with the first one having 784 neurons and the second one having 800 neurons. We can add a sigmoid activation to each layer. After this our network design looks something like this:\n",
        "\n",
        "![input+hidden_layers](https://docs.google.com/uc?export=download&id=1zwZPfVsfOOH-awl0A2eYOeRcpLGNGcjB)\n",
        "\n",
        "#### Softmax Output\n",
        "Finally, we can add a densely connected output layer with 10 neurons and apply a softmax activation to it. The final network design looks like this:\n",
        "\n",
        "![final_dnn_design](https://docs.google.com/uc?export=download&id=1ePuVGrNaI4J0BwZ7-pjRjGdlaZ81Seis)\n"
      ]
    },
    {
      "metadata": {
        "id": "AufuQ2-bUOnx",
        "colab_type": "text"
      },
      "cell_type": "markdown",
      "source": [
        "##**Keras**"
      ]
    },
    {
      "metadata": {
        "id": "djmc0iZoPMVJ",
        "colab_type": "code",
        "colab": {}
      },
      "cell_type": "code",
      "source": [
        "import keras\n",
        "from keras.models import Sequential\n",
        "from keras.layers import Dense, Dropout, Activation, Flatten, Conv2D, MaxPooling2D\n",
        "from keras.utils import np_utils\n",
        "from keras.utils.vis_utils import plot_model\n",
        "#np.random.seed(35)"
      ],
      "execution_count": 0,
      "outputs": []
    },
    {
      "metadata": {
        "id": "y_74aEAhUer3",
        "colab_type": "text"
      },
      "cell_type": "markdown",
      "source": [
        "##** Reading data and shape info**\n",
        "\n",
        "The code is going to download 4  parts of the dataset:\n",
        "- **X_train** - the training images, which consist of 60,000 grayscale images represented as matrices with values corresponding to the darkness of each pixel.\n",
        "- **y_train** - the training labels, which consist of 60,000 digits ranging from 0 to 9.\n",
        "- **X_test** - the test images, which consist of 10,000 grayscale images represented as matrices.\n",
        "- **y_test** - the test labels, which consist of 10,000 digits ranging from 0 to 9.\n",
        "\n",
        "Let's take a look at the shapes of these four parts of our data, which are all **represented as Numpy arrays**."
      ]
    },
    {
      "metadata": {
        "id": "_nhLobPLH7X8",
        "colab_type": "code",
        "outputId": "bd7a6c38-c2c4-4ef2-edf6-321ea4e277e7",
        "colab": {
          "base_uri": "https://localhost:8080/",
          "height": 84
        }
      },
      "cell_type": "code",
      "source": [
        "fashion_mnist = keras.datasets.fashion_mnist\n",
        "(X_train, y_train), (X_test, y_test) = fashion_mnist.load_data()\n",
        "print(\"X_train original shape\", X_train.shape)\n",
        "print(\"y_train original shape\", y_train.shape)\n",
        "print(\"X_test original shape\", X_test.shape)\n",
        "print(\"y_test original shape\", y_test.shape)"
      ],
      "execution_count": 14,
      "outputs": [
        {
          "output_type": "stream",
          "text": [
            "X_train original shape (60000, 28, 28)\n",
            "y_train original shape (60000,)\n",
            "X_test original shape (10000, 28, 28)\n",
            "y_test original shape (10000,)\n"
          ],
          "name": "stdout"
        }
      ]
    },
    {
      "metadata": {
        "id": "kfw7LOfLVjDJ",
        "colab_type": "text"
      },
      "cell_type": "markdown",
      "source": [
        "Our training image set is basically a 3D stack of 60,000 28 x 28 pixel images and similarly, our test image set is a stack of 10,000 images of the same shape."
      ]
    },
    {
      "metadata": {
        "id": "QcFvvQR6VrCQ",
        "colab_type": "code",
        "outputId": "21ace1ec-b1a2-449b-a484-c3ada67fbe12",
        "colab": {
          "base_uri": "https://localhost:8080/",
          "height": 1428
        }
      },
      "cell_type": "code",
      "source": [
        "X_train[0]"
      ],
      "execution_count": 15,
      "outputs": [
        {
          "output_type": "execute_result",
          "data": {
            "text/plain": [
              "array([[  0,   0,   0,   0,   0,   0,   0,   0,   0,   0,   0,   0,   0,\n",
              "          0,   0,   0,   0,   0,   0,   0,   0,   0,   0,   0,   0,   0,\n",
              "          0,   0],\n",
              "       [  0,   0,   0,   0,   0,   0,   0,   0,   0,   0,   0,   0,   0,\n",
              "          0,   0,   0,   0,   0,   0,   0,   0,   0,   0,   0,   0,   0,\n",
              "          0,   0],\n",
              "       [  0,   0,   0,   0,   0,   0,   0,   0,   0,   0,   0,   0,   0,\n",
              "          0,   0,   0,   0,   0,   0,   0,   0,   0,   0,   0,   0,   0,\n",
              "          0,   0],\n",
              "       [  0,   0,   0,   0,   0,   0,   0,   0,   0,   0,   0,   0,   1,\n",
              "          0,   0,  13,  73,   0,   0,   1,   4,   0,   0,   0,   0,   1,\n",
              "          1,   0],\n",
              "       [  0,   0,   0,   0,   0,   0,   0,   0,   0,   0,   0,   0,   3,\n",
              "          0,  36, 136, 127,  62,  54,   0,   0,   0,   1,   3,   4,   0,\n",
              "          0,   3],\n",
              "       [  0,   0,   0,   0,   0,   0,   0,   0,   0,   0,   0,   0,   6,\n",
              "          0, 102, 204, 176, 134, 144, 123,  23,   0,   0,   0,   0,  12,\n",
              "         10,   0],\n",
              "       [  0,   0,   0,   0,   0,   0,   0,   0,   0,   0,   0,   0,   0,\n",
              "          0, 155, 236, 207, 178, 107, 156, 161, 109,  64,  23,  77, 130,\n",
              "         72,  15],\n",
              "       [  0,   0,   0,   0,   0,   0,   0,   0,   0,   0,   0,   1,   0,\n",
              "         69, 207, 223, 218, 216, 216, 163, 127, 121, 122, 146, 141,  88,\n",
              "        172,  66],\n",
              "       [  0,   0,   0,   0,   0,   0,   0,   0,   0,   1,   1,   1,   0,\n",
              "        200, 232, 232, 233, 229, 223, 223, 215, 213, 164, 127, 123, 196,\n",
              "        229,   0],\n",
              "       [  0,   0,   0,   0,   0,   0,   0,   0,   0,   0,   0,   0,   0,\n",
              "        183, 225, 216, 223, 228, 235, 227, 224, 222, 224, 221, 223, 245,\n",
              "        173,   0],\n",
              "       [  0,   0,   0,   0,   0,   0,   0,   0,   0,   0,   0,   0,   0,\n",
              "        193, 228, 218, 213, 198, 180, 212, 210, 211, 213, 223, 220, 243,\n",
              "        202,   0],\n",
              "       [  0,   0,   0,   0,   0,   0,   0,   0,   0,   1,   3,   0,  12,\n",
              "        219, 220, 212, 218, 192, 169, 227, 208, 218, 224, 212, 226, 197,\n",
              "        209,  52],\n",
              "       [  0,   0,   0,   0,   0,   0,   0,   0,   0,   0,   6,   0,  99,\n",
              "        244, 222, 220, 218, 203, 198, 221, 215, 213, 222, 220, 245, 119,\n",
              "        167,  56],\n",
              "       [  0,   0,   0,   0,   0,   0,   0,   0,   0,   4,   0,   0,  55,\n",
              "        236, 228, 230, 228, 240, 232, 213, 218, 223, 234, 217, 217, 209,\n",
              "         92,   0],\n",
              "       [  0,   0,   1,   4,   6,   7,   2,   0,   0,   0,   0,   0, 237,\n",
              "        226, 217, 223, 222, 219, 222, 221, 216, 223, 229, 215, 218, 255,\n",
              "         77,   0],\n",
              "       [  0,   3,   0,   0,   0,   0,   0,   0,   0,  62, 145, 204, 228,\n",
              "        207, 213, 221, 218, 208, 211, 218, 224, 223, 219, 215, 224, 244,\n",
              "        159,   0],\n",
              "       [  0,   0,   0,   0,  18,  44,  82, 107, 189, 228, 220, 222, 217,\n",
              "        226, 200, 205, 211, 230, 224, 234, 176, 188, 250, 248, 233, 238,\n",
              "        215,   0],\n",
              "       [  0,  57, 187, 208, 224, 221, 224, 208, 204, 214, 208, 209, 200,\n",
              "        159, 245, 193, 206, 223, 255, 255, 221, 234, 221, 211, 220, 232,\n",
              "        246,   0],\n",
              "       [  3, 202, 228, 224, 221, 211, 211, 214, 205, 205, 205, 220, 240,\n",
              "         80, 150, 255, 229, 221, 188, 154, 191, 210, 204, 209, 222, 228,\n",
              "        225,   0],\n",
              "       [ 98, 233, 198, 210, 222, 229, 229, 234, 249, 220, 194, 215, 217,\n",
              "        241,  65,  73, 106, 117, 168, 219, 221, 215, 217, 223, 223, 224,\n",
              "        229,  29],\n",
              "       [ 75, 204, 212, 204, 193, 205, 211, 225, 216, 185, 197, 206, 198,\n",
              "        213, 240, 195, 227, 245, 239, 223, 218, 212, 209, 222, 220, 221,\n",
              "        230,  67],\n",
              "       [ 48, 203, 183, 194, 213, 197, 185, 190, 194, 192, 202, 214, 219,\n",
              "        221, 220, 236, 225, 216, 199, 206, 186, 181, 177, 172, 181, 205,\n",
              "        206, 115],\n",
              "       [  0, 122, 219, 193, 179, 171, 183, 196, 204, 210, 213, 207, 211,\n",
              "        210, 200, 196, 194, 191, 195, 191, 198, 192, 176, 156, 167, 177,\n",
              "        210,  92],\n",
              "       [  0,   0,  74, 189, 212, 191, 175, 172, 175, 181, 185, 188, 189,\n",
              "        188, 193, 198, 204, 209, 210, 210, 211, 188, 188, 194, 192, 216,\n",
              "        170,   0],\n",
              "       [  2,   0,   0,   0,  66, 200, 222, 237, 239, 242, 246, 243, 244,\n",
              "        221, 220, 193, 191, 179, 182, 182, 181, 176, 166, 168,  99,  58,\n",
              "          0,   0],\n",
              "       [  0,   0,   0,   0,   0,   0,   0,  40,  61,  44,  72,  41,  35,\n",
              "          0,   0,   0,   0,   0,   0,   0,   0,   0,   0,   0,   0,   0,\n",
              "          0,   0],\n",
              "       [  0,   0,   0,   0,   0,   0,   0,   0,   0,   0,   0,   0,   0,\n",
              "          0,   0,   0,   0,   0,   0,   0,   0,   0,   0,   0,   0,   0,\n",
              "          0,   0],\n",
              "       [  0,   0,   0,   0,   0,   0,   0,   0,   0,   0,   0,   0,   0,\n",
              "          0,   0,   0,   0,   0,   0,   0,   0,   0,   0,   0,   0,   0,\n",
              "          0,   0]], dtype=uint8)"
            ]
          },
          "metadata": {
            "tags": []
          },
          "execution_count": 15
        }
      ]
    },
    {
      "metadata": {
        "id": "6Op8bFzsH_JP",
        "colab_type": "code",
        "outputId": "db3c73e4-6637-4260-9ea1-f4e6d59aba8e",
        "colab": {
          "base_uri": "https://localhost:8080/",
          "height": 297
        }
      },
      "cell_type": "code",
      "source": [
        "plt.imshow(X_train[0], cmap='gray') # the cmap argument allows us to view this as a grayscale image\n",
        "plt.title(y_train[0]) #category of the object in the image. 9 = Ankle Boot"
      ],
      "execution_count": 16,
      "outputs": [
        {
          "output_type": "execute_result",
          "data": {
            "text/plain": [
              "Text(0.5, 1.0, '9')"
            ]
          },
          "metadata": {
            "tags": []
          },
          "execution_count": 16
        },
        {
          "output_type": "display_data",
          "data": {
            "image/png": "[encoded data removed]",
            "text/plain": [
              "<Figure size 432x288 with 1 Axes>"
            ]
          },
          "metadata": {
            "tags": []
          }
        }
      ]
    },
    {
      "metadata": {
        "id": "yIUwfh8HyMLV",
        "colab_type": "text"
      },
      "cell_type": "markdown",
      "source": [
        ""
      ]
    },
    {
      "metadata": {
        "id": "qBw8gAKiIB7w",
        "colab_type": "code",
        "colab": {}
      },
      "cell_type": "code",
      "source": [
        "#X_train = X_train.reshape(60000,784)\n",
        "#X_test = X_test.reshape(10000,784)\n",
        "\n",
        "X_train = X_train.astype('float32')\n",
        "X_test = X_test.astype('float32')\n",
        "\n",
        "#We scale these values to a range of 0 to 1 before feeding to the neural network model. \n",
        "#For this, we divide the values by 255. It's important that the training set and the testing set are preprocessed in the same way:\n",
        "\n",
        "X_train/=255\n",
        "X_test/=255"
      ],
      "execution_count": 0,
      "outputs": []
    },
    {
      "metadata": {
        "id": "0woAHT0xyLdf",
        "colab_type": "text"
      },
      "cell_type": "markdown",
      "source": [
        "### Preparing Our Data for the Neural Network\n",
        "Because our original data consisted of just single values for the labels, we now want to turn our labels into categorical **one-hot vectors** with 10 values. In a **one-hot vector** all of the elements are zero except for one which has a value of 1 in the position of the correct class. Let's perform this transformation with Keras and see the result on a single variable."
      ]
    },
    {
      "metadata": {
        "id": "AM23v1N2IEoQ",
        "colab_type": "code",
        "outputId": "1940e984-e200-4a26-f8c7-ff92985f2889",
        "colab": {
          "base_uri": "https://localhost:8080/",
          "height": 34
        }
      },
      "cell_type": "code",
      "source": [
        "number_of_classes = 10 # Labelling starts with 0; hence numbering will be 0-9\n",
        "\n",
        "Y_train = np_utils.to_categorical(y_train, number_of_classes)\n",
        "Y_test = np_utils.to_categorical(y_test, number_of_classes)\n",
        "\n",
        "y_train[0], Y_train[0] \n",
        "\n",
        "#y_train has original label Y_train has vector after one hot encoder.\n",
        "#Hence label 9 has 1 at position in vector rest all values are set to zero.\n"
      ],
      "execution_count": 19,
      "outputs": [
        {
          "output_type": "execute_result",
          "data": {
            "text/plain": [
              "(9, array([0., 0., 0., 0., 0., 0., 0., 0., 0., 1.], dtype=float32))"
            ]
          },
          "metadata": {
            "tags": []
          },
          "execution_count": 19
        }
      ]
    },
    {
      "metadata": {
        "id": "bRMai4sq1Qax",
        "colab_type": "text"
      },
      "cell_type": "markdown",
      "source": [
        "## Convolutional Neural Networks (CNNs)\n",
        "Convolutional neural networks (CNNs) are designed for image data and inspired by local regions of activity in the visual cortex. The main innovation in CNNs lies in their ability to effectively recognize patterns in spatial data. \n",
        "\n",
        "Recall that in the previous section we had to flatten the images and give our deep neural network 784 pixel vectors as input. However, CNNs can work with 2D input structures such as images using **convolutional layers**.\n",
        "\n",
        "### Convolutional Layers\n",
        "The **convolutional layer** is the fundamental unit of CNNs. This layer passes over local two-dimensional regions in the image and performs a **convolution** operation on each region. The **convolution** operation displayed below is similar to multiplying weights except it operates on matrices instead of vectors.\n",
        "\n",
        "![convolution operation](https://docs.google.com/uc?export=download&id=1POU_9SZQmCeYJLisYpr-qy55DTdw5lpm)\n",
        "\n",
        "(image source: http://www.davidsbatista.net/blog/2018/03/31/SentenceClassificationConvNets/)\n",
        "\n",
        "In the image above the convolution operation involves taking a **3 x 3 subsection of the input image** and multiplying it by a **3 x 3 kernel of weights** and summing the products to produce a single element in the output. This operation is kind of like a 2D dot product and is repeated by sliding the **kernel** or **convolution filter** with a fixed **stride** such as 1 pixel length, across the image until all input pixels have been covered. The GIF below demonstrates this concept:\n",
        "\n",
        "![conv_stride](https://docs.google.com/uc?export=download&id=1x8WthFeglNI5CXDQQ2WnraztzeTIsA1_)\n",
        "\n",
        "(GIF source: https://medium.freecodecamp.org/an-intuitive-guide-to-convolutional-neural-networks-260c2de0a050)\n",
        "\n",
        "A convolution filter basically looks for certain **features** in an image such as corners, curves, or circles. The **output** of sliding a convolution filter across an input image is a **feature map**, which is kind of like an image in terms of its dimensionality. A single convolution layer can have **multiple filters** that each look for different features. The size of the filter (in this case 3 x 3) is often referred to as the **kernel size**.\n",
        "\n",
        "#### ReLU Activation Function\n",
        "Convolutional layers typically use the **ReLU (Rectified Linear Unit) activation function** which is really simple and represented by the following equation: $ R(z) = max(0, z) $. If we graph this function it looks like this:\n",
        "\n",
        "![relu](https://docs.google.com/uc?export=download&id=1qVCnvxjUxGwGgKzL98sv0odwJg6WOlXH)\n",
        "\n",
        "\n",
        "### Max Pooling Layers\n",
        "Max pooling is another operation commonly found in CNNs. Max pooling is just a form of downsampling where we select the maximum pixel value from a 2D section of a feature map. The image below demonstrates the concept of max-pooling.\n",
        "\n",
        "![maxpool](https://docs.google.com/uc?export=download&id=1-hhVrOWdC2jAVcXUTJZqzmiGUreSxGdF)\n",
        "\n",
        "\n",
        "#### Why Max Pool? \n",
        "Why do we even do downsampling with max-pooling? **François Chollet**, the author of Keras (!) gives the following explanation in **\"Deep Learning with Python\"**: \n",
        "\n",
        "“The reason to use downsampling is to reduce the number of feature-map coefficients to process, as well as to induce spatial-filter hierarchies by making successive convolution layers look at increasingly large windows (in terms of the fraction of the original input they cover).”\n",
        "\n",
        "Basically, max-pooling reduces computation time and creates creates a hierarchical structure for detecting features when we stack multiple convolutional layers together.\n",
        "\n",
        "### Structure of CNNs\n",
        "Generally CNNs begin with stacks of several convolutional and max pooling layers, which are then followed by a layer that flattens the resulting feature maps into a single vector, and then a series of typical densely connected layers. \n",
        "\n",
        "![cnn_structure](https://docs.google.com/uc?export=download&id=1slsGG86wPW4HSYYuoxCs5Vv0-l_1KesW)\n",
        "\n",
        "### Cool Visualization \n",
        "Here is a nice visualization if you want to see what actually happens to images inside of CNNs.\n",
        "http://scs.ryerson.ca/~aharley/vis/conv/\n",
        "\n",
        "### Introducing Dropout - Controlling Overfitting\n",
        "In the final dense (fully-connected layers) of a CNN, we may typically see thousands of neurons. These large layers are good at learning patterns but can sometimes learn them too well, to the point where they memorize features unique to the training data and fail to generalize to the validation data. This is called **overfitting**. We can control overfitting by introducing **dropout** into these final layers. With **dropout**, during training we randomly remove the effect of certain neurons by **setting their activations to zero**. Note that this is just as good as removing these neurons temporarily. This prevents the network from relying too much on a few specific features and forces it to learn general patterns. We can specify the probability of dropping neurons in dropout layers in Keras.\n",
        "\n",
        "![dropout](https://docs.google.com/uc?export=download&id=1EgV9UVSWj50udMOqst3rb85HX_vke7Bo)"
      ]
    },
    {
      "metadata": {
        "id": "kDPh4Qf7IGqc",
        "colab_type": "code",
        "colab": {}
      },
      "cell_type": "code",
      "source": [
        "model = Sequential()\n",
        "\n",
        "model.add(Flatten(input_shape=(28, 28, 1)))\n",
        "model.add(Dense(512, input_dim=784))\n",
        "# An \"activation\" is just a non-linear function applied to the output\n",
        "# of the layer above. Here, with a \"rectified linear unit\",\n",
        "# we clamp all values below 0 to 0.\n",
        "model.add(Activation('relu'))\n",
        "# Dropout helps protect the model from memorizing or \"overfitting\" the training data\n",
        "model.add(Dropout(0.2))\n",
        "\n",
        "model.add(Dense(512))\n",
        "model.add(Activation('relu'))\n",
        "model.add(Dropout(0.2))\n",
        "\n",
        "model.add(Dense(512))\n",
        "model.add(Activation('relu'))\n",
        "model.add(Dropout(0.2))\n",
        "\n",
        "model.add(Dense(10))\n",
        "# This special \"softmax\" activation among other things,\n",
        "# ensures the output is a valid probaility distribution, that is\n",
        "# that its values are all non-negative and sum to 1.\n",
        "model.add(Activation('softmax'))"
      ],
      "execution_count": 0,
      "outputs": []
    },
    {
      "metadata": {
        "id": "An0v3rlu7Ziv",
        "colab_type": "text"
      },
      "cell_type": "markdown",
      "source": [
        "## Loss Functions - Evaluating a Neural Network's Predictions\n",
        "In the previous sections, all we did was define the structure of our neural network. Our network has over a million weights, but all of this means nothing if it can't learn the right weights for our problem. This brings us to what we can call the **Universal Deep Learning Problem**, an optimization problem that we try to solve in all supervised deep learning tasks (the term isn't actually real, I just made it up for the purpose of this workshop).\n",
        "\n",
        "### The Universal Deep Learning Problem\n",
        "Given a supervised machine learning task (eg. image classification), find a way to make the neural network **learn the weights** that allow it to make the **best predictions** of the desired outputs given inputs for that task.\n",
        "\n",
        "### Quantifying \"Best Predictions\" Using a Loss Function\n",
        "If we want our network to learn the weights that generate the **best predictions** we first have to quantitatively define the \"goodness\" or \"badness\" of our predictions. This is where loss functions come in. A loss function is basically a function that takes two arguments - some predicted values and the correct values, and measures **how bad** the predictions are. A **higher loss value** means **worse predictions** and a **lower loss value means better predictions**. \n",
        "\n",
        "### Categorical Cross Entropy - A Loss Function for Softmax Outputs\n",
        "Recall that our network outputs a probability distribution with ten probabilities, one for each possible digit. The correct output, which we want to compare our predictions with is a one-hot vector, which is basically a series of ten values with a 1 in the index of the correct digit, and 0's everywhere else. Clearly, we want to predict the highest probability for the correct digit and lower probabilities for incorrect digits. The **categorical cross entropy** function allows us to quantify the difference between the assigned probabilities and the actual labels. \n",
        "\n",
        "$$ crossentropy(y, \\hat{y}) = - \\sum_{i} y_{i} \\log \\hat{y_{i}}$$\n",
        "\n",
        "In plain English, all this equation really says is that to calculate the cross entropy we take each element of $y$, the correct labels multiply it by the log of the corresponding element in $\\hat y$ (our predicted probabilities) and sum up all these products and multiply by -1 to get the loss.\n",
        "\n",
        "#### Example with Numbers\n",
        "Let's say we are dealing with a binary classification task and we get $ y = [1, 0] $ and $ \\hat y = [0.5, 0.5] $, meaning that we predicting an equal probability for each class. The cross entropy is then calculated like this:\n",
        "\n",
        "$$ crossentropy(y, \\hat{y}) = -[(1 \\cdot \\log 0.5) + (0 \\cdot \\log 0.5)]  \\approx 0.6931$$"
      ]
    },
    {
      "metadata": {
        "id": "vIO4yOtm7hTJ",
        "colab_type": "text"
      },
      "cell_type": "markdown",
      "source": [
        "## Optimization Algorithms - Minimizing the Loss and Learning Weights\n",
        "Every supervised deep learning problem is an optimization problem where the network has to **learn the weights** that **minimize the loss**.\n",
        "\n",
        "### Intuition Behind Optimization Algorithms\n",
        "In deep learning, optimization algorithms tend to follow the same set of steps, which are listed below:\n",
        "\n",
        "Step 0: Set the weights to small random values.\n",
        "\n",
        "1. Get a single sample or a batch of **training examples**.\n",
        "2. Have the neural network **generate predictions** for those examples.\n",
        "3. **Calculate the loss** for those predictions.\n",
        "4. **Update the weights** to reduce the loss.\n",
        "5. **Repeat steps 1-4** for some number of iterations or until satisfied with the neural net's performance.\n",
        "\n",
        "The only step that really differs between different learning algorithms is step 4. This step is where most of the math is involved and it is also perhaps the most important step.\n",
        "\n",
        "### (Stochastic) Gradient Descent - A Basic Optimization Algorithm\n",
        "**Gradient descent** is one of the simplest optimization algorithms and usually the first one that most people studying deep learning actually learn about. To understand the idea behind this algorithm picture a scenario where you are **walking through a valley** and you are trying to get to the **lowest point** in the valley.\n",
        "\n",
        "![valley](https://docs.google.com/uc?export=download&id=16hqurC46z3kUA1XKfGUmZmJAjxhkqIQG)\n",
        "\n",
        "Intuitively, it would make sense to look at where the path in front of you is headed and keep walking downhill rather than uphill to try to reach the bottom of the valley. This is sort of how gradient descent works. If we relate this concept back to the **universal deep learning problem**, the valley becomes the **graph of our cost function** and we can use a little bit of calculus to figure out if the cost function is going **downhill** or **uphill**.\n",
        "\n",
        "\n",
        "### Other Optimization Algorithms\n",
        "There are many other optimization algorithms used in deep learning but we won't cover them all in great detail because they are out of the scope of this workshop. Some of the most common algorithms include:\n",
        "\n",
        "- RMSProp\n",
        "- Adagrad\n",
        "- Adadelta\n",
        "- Adam\n",
        "\n",
        "Any algorithm that begins with 'Ada' is an algorithm that adapts the learning rate over time. Adam is a popular default to start with and it generally gives good results for most problems."
      ]
    },
    {
      "metadata": {
        "id": "WGQcjA9f8FiK",
        "colab_type": "text"
      },
      "cell_type": "markdown",
      "source": [
        "### Adding a Loss Function and Optimizer to the Neural Network\n",
        "Now that we know about optimizers and loss functions let's add a loss function and optimizer to our deep learning model."
      ]
    },
    {
      "metadata": {
        "id": "97G5beerIJts",
        "colab_type": "code",
        "colab": {}
      },
      "cell_type": "code",
      "source": [
        "model.compile(loss='categorical_crossentropy', optimizer='adam', metrics=['accuracy'])\n",
        "plot_model(model, to_file='model_plot.png', show_shapes=True, show_layer_names=True)"
      ],
      "execution_count": 0,
      "outputs": []
    },
    {
      "metadata": {
        "id": "0YlskDI8L6MS",
        "colab_type": "text"
      },
      "cell_type": "markdown",
      "source": [
        ""
      ]
    },
    {
      "metadata": {
        "id": "W6KocJyBK_w7",
        "colab_type": "code",
        "colab": {}
      },
      "cell_type": "code",
      "source": [
        "X_train = X_train.reshape(X_train.shape[0], 28, 28,1) # adds extra dimension\n",
        "X_test = X_test.reshape(X_test.shape[0], 28, 28, 1) # adds extra dimension"
      ],
      "execution_count": 0,
      "outputs": []
    },
    {
      "metadata": {
        "id": "RLBRg2cTLtni",
        "colab_type": "text"
      },
      "cell_type": "markdown",
      "source": [
        ""
      ]
    },
    {
      "metadata": {
        "id": "CL_07LXFIMAa",
        "colab_type": "code",
        "colab": {}
      },
      "cell_type": "code",
      "source": [
        "size = int(len(X_train) * 0.8)\n",
        "\n",
        "train_x, val_x = X_train[:size], X_train[size:]\n",
        "train_y, val_y = Y_train[:size], Y_train[size:]"
      ],
      "execution_count": 0,
      "outputs": []
    },
    {
      "metadata": {
        "id": "qXIXkNc0jzOy",
        "colab_type": "text"
      },
      "cell_type": "markdown",
      "source": [
        "**Data Augumentation**\n",
        "\n",
        "One of the best ways to improve the performance of a Deep Learning model is to add more data to the training set.  There are many ways to augment existing datasets and produce more robust models.\n",
        "\n",
        "You want the dataset to be representative of the many different positions, angles, lightings, and miscellaneous distortions that are of interest to the vision task.\n",
        "\n",
        "\n",
        "Documentation link: \n",
        "\n",
        "\n",
        "\n",
        "https://keras.io/preprocessing/image/"
      ]
    },
    {
      "metadata": {
        "id": "JpTfNoeHGzR2",
        "colab_type": "code",
        "colab": {}
      },
      "cell_type": "code",
      "source": [
        "from keras.preprocessing.image import ImageDataGenerator\n",
        "\n",
        "datagen = ImageDataGenerator(\n",
        "    rotation_range=2,\n",
        "    horizontal_flip=True)\n",
        "\n",
        "datagen.fit(X_train)"
      ],
      "execution_count": 0,
      "outputs": []
    },
    {
      "metadata": {
        "id": "SM-9RNlHJpj0",
        "colab_type": "code",
        "outputId": "2c0697a7-5177-4481-dfde-240dfe3e46f4",
        "colab": {
          "base_uri": "https://localhost:8080/",
          "height": 34
        }
      },
      "cell_type": "code",
      "source": [
        "X_train.shape"
      ],
      "execution_count": 27,
      "outputs": [
        {
          "output_type": "execute_result",
          "data": {
            "text/plain": [
              "(60000, 28, 28, 1)"
            ]
          },
          "metadata": {
            "tags": []
          },
          "execution_count": 27
        }
      ]
    },
    {
      "metadata": {
        "id": "_lIaIHnAzlTl",
        "colab_type": "text"
      },
      "cell_type": "markdown",
      "source": [
        "## Training the Neural Network\n",
        "Now that we have selected an optimizer and specified a loss function in Keras we can finally start training the network. When training a network, we have to specify the following parameters:\n",
        "\n",
        "- **Training data**: These are the first two arguments and represent the training images and the training labels. In this case these are X_train and y_train.\n",
        "- **Validation data**: Some additional data to test on while training the model.\n",
        "- **batch_size**: A batch is a set of shuffled training examples from the data that we use to make a single weight update. We can specify how big we want the batches to be.\n",
        "- **epochs**: An epoch is a unit of training time that represents a single pass through the training data. For example, if our training data has **50,000 images** and we use a **batch size of 50**, then an **epoch** is complete after going through **1,000 batches**.\n",
        "\n",
        "The nice thing about Keras is that we can monitor both the loss and the accuracy and see these values changing in real time during the training process! "
      ]
    },
    {
      "metadata": {
        "id": "3BZW0qE6IOBg",
        "colab_type": "code",
        "outputId": "0e0b0193-d888-4b0f-f3d8-8c94458534b5",
        "colab": {
          "base_uri": "https://localhost:8080/",
          "height": 440
        }
      },
      "cell_type": "code",
      "source": [
        "model.fit_generator(datagen.flow(train_x, train_y, batch_size=32), steps_per_epoch=len(train_x)/32, epochs=10, validation_data=(val_x, val_y))"
      ],
      "execution_count": 28,
      "outputs": [
        {
          "output_type": "stream",
          "text": [
            "WARNING:tensorflow:From /usr/local/lib/python3.6/dist-packages/tensorflow/python/ops/math_ops.py:3066: to_int32 (from tensorflow.python.ops.math_ops) is deprecated and will be removed in a future version.\n",
            "Instructions for updating:\n",
            "Use tf.cast instead.\n",
            "Epoch 1/10\n",
            "1500/1500 [==============================] - 21s 14ms/step - loss: 0.5898 - acc: 0.7845 - val_loss: 0.4382 - val_acc: 0.8375\n",
            "Epoch 2/10\n",
            "1500/1500 [==============================] - 19s 13ms/step - loss: 0.4569 - acc: 0.8341 - val_loss: 0.4229 - val_acc: 0.8445\n",
            "Epoch 3/10\n",
            "1500/1500 [==============================] - 19s 13ms/step - loss: 0.4208 - acc: 0.8473 - val_loss: 0.4121 - val_acc: 0.8562\n",
            "Epoch 4/10\n",
            "1500/1500 [==============================] - 19s 13ms/step - loss: 0.4025 - acc: 0.8545 - val_loss: 0.3958 - val_acc: 0.8505\n",
            "Epoch 5/10\n",
            "1500/1500 [==============================] - 19s 13ms/step - loss: 0.3902 - acc: 0.8571 - val_loss: 0.3643 - val_acc: 0.8685\n",
            "Epoch 6/10\n",
            "1500/1500 [==============================] - 19s 13ms/step - loss: 0.3722 - acc: 0.8649 - val_loss: 0.3669 - val_acc: 0.8666\n",
            "Epoch 7/10\n",
            "1500/1500 [==============================] - 19s 13ms/step - loss: 0.3609 - acc: 0.8670 - val_loss: 0.3478 - val_acc: 0.8761\n",
            "Epoch 8/10\n",
            "1500/1500 [==============================] - 19s 13ms/step - loss: 0.3586 - acc: 0.8692 - val_loss: 0.3605 - val_acc: 0.8714\n",
            "Epoch 9/10\n",
            "1500/1500 [==============================] - 19s 13ms/step - loss: 0.3505 - acc: 0.8702 - val_loss: 0.3450 - val_acc: 0.8771\n",
            "Epoch 10/10\n",
            "1500/1500 [==============================] - 19s 13ms/step - loss: 0.3447 - acc: 0.8746 - val_loss: 0.3353 - val_acc: 0.8809\n"
          ],
          "name": "stdout"
        },
        {
          "output_type": "execute_result",
          "data": {
            "text/plain": [
              "<keras.callbacks.History at 0x7f432bd2e908>"
            ]
          },
          "metadata": {
            "tags": []
          },
          "execution_count": 28
        }
      ]
    },
    {
      "metadata": {
        "id": "Ul5o9K_kN_hK",
        "colab_type": "code",
        "outputId": "41275a38-44ae-47dd-b523-6ae94eb5e152",
        "colab": {
          "base_uri": "https://localhost:8080/",
          "height": 722
        }
      },
      "cell_type": "code",
      "source": [
        "from keras.layers import Conv2D, MaxPooling2D, Flatten, Dropout\n",
        "model = Sequential()\n",
        "model.add(Conv2D(kernel_size=(3, 3), filters=32, activation='relu', input_shape=(28, 28, 1)))\n",
        "model.add(Conv2D(kernel_size=(3, 3), filters=32, activation='relu'))\n",
        "model.add(MaxPooling2D(2, 2))\n",
        "\n",
        "model.add(Conv2D(kernel_size=(3, 3), filters=64, activation='relu'))\n",
        "model.add(Conv2D(kernel_size=(3, 3), filters=64, activation='relu'))\n",
        "model.add(MaxPooling2D(2, 2))\n",
        "\n",
        "model.add(Flatten())\n",
        "model.add(Dense(1024, activation='sigmoid'))\n",
        "model.add(Dropout(0.2))\n",
        "model.add(Dense(1024, activation='sigmoid'))\n",
        "model.add(Dropout(0.2))\n",
        "model.add(Dense(10, activation='softmax'))\n",
        "\n",
        "model.compile(loss='categorical_crossentropy', optimizer='adam', metrics=['accuracy'])\n",
        "\n",
        "print(model.summary())\n",
        "\n",
        "history=model.fit_generator(datagen.flow(X_train, Y_train, batch_size=256), validation_data=(X_test, Y_test), steps_per_epoch=len(X_train)/256, epochs=5)"
      ],
      "execution_count": 35,
      "outputs": [
        {
          "output_type": "stream",
          "text": [
            "_________________________________________________________________\n",
            "Layer (type)                 Output Shape              Param #   \n",
            "=================================================================\n",
            "conv2d_5 (Conv2D)            (None, 26, 26, 32)        320       \n",
            "_________________________________________________________________\n",
            "conv2d_6 (Conv2D)            (None, 24, 24, 32)        9248      \n",
            "_________________________________________________________________\n",
            "max_pooling2d_3 (MaxPooling2 (None, 12, 12, 32)        0         \n",
            "_________________________________________________________________\n",
            "conv2d_7 (Conv2D)            (None, 10, 10, 64)        18496     \n",
            "_________________________________________________________________\n",
            "conv2d_8 (Conv2D)            (None, 8, 8, 64)          36928     \n",
            "_________________________________________________________________\n",
            "max_pooling2d_4 (MaxPooling2 (None, 4, 4, 64)          0         \n",
            "_________________________________________________________________\n",
            "flatten_5 (Flatten)          (None, 1024)              0         \n",
            "_________________________________________________________________\n",
            "dense_16 (Dense)             (None, 1024)              1049600   \n",
            "_________________________________________________________________\n",
            "dropout_12 (Dropout)         (None, 1024)              0         \n",
            "_________________________________________________________________\n",
            "dense_17 (Dense)             (None, 1024)              1049600   \n",
            "_________________________________________________________________\n",
            "dropout_13 (Dropout)         (None, 1024)              0         \n",
            "_________________________________________________________________\n",
            "dense_18 (Dense)             (None, 10)                10250     \n",
            "=================================================================\n",
            "Total params: 2,174,442\n",
            "Trainable params: 2,174,442\n",
            "Non-trainable params: 0\n",
            "_________________________________________________________________\n",
            "None\n",
            "Epoch 1/5\n",
            "235/234 [==============================] - 16s 69ms/step - loss: 0.8024 - acc: 0.7005 - val_loss: 0.4665 - val_acc: 0.8251\n",
            "Epoch 2/5\n",
            "235/234 [==============================] - 15s 64ms/step - loss: 0.4347 - acc: 0.8365 - val_loss: 0.3977 - val_acc: 0.8568\n",
            "Epoch 3/5\n",
            "235/234 [==============================] - 15s 65ms/step - loss: 0.3648 - acc: 0.8633 - val_loss: 0.3551 - val_acc: 0.8709\n",
            "Epoch 4/5\n",
            "235/234 [==============================] - 16s 67ms/step - loss: 0.3186 - acc: 0.8814 - val_loss: 0.3139 - val_acc: 0.8851\n",
            "Epoch 5/5\n",
            "235/234 [==============================] - 15s 65ms/step - loss: 0.2965 - acc: 0.8903 - val_loss: 0.3005 - val_acc: 0.8887\n"
          ],
          "name": "stdout"
        }
      ]
    },
    {
      "metadata": {
        "id": "FHHb6b_K8ON5",
        "colab_type": "text"
      },
      "cell_type": "markdown",
      "source": [
        "## **Model Evaluation and Result Prediction**\n",
        "\n",
        "model.evaluate() will evaluate model on test data."
      ]
    },
    {
      "metadata": {
        "id": "2hRJZUeCIQGp",
        "colab_type": "code",
        "outputId": "33ac012d-b598-4298-876f-6d7d4f4e6b35",
        "colab": {
          "base_uri": "https://localhost:8080/",
          "height": 67
        }
      },
      "cell_type": "code",
      "source": [
        "score = model.evaluate(X_test, Y_test)\n",
        "print()\n",
        "print('Test accuracy: ', score[1])"
      ],
      "execution_count": 36,
      "outputs": [
        {
          "output_type": "stream",
          "text": [
            "10000/10000 [==============================] - 1s 98us/step\n",
            "\n",
            "Test accuracy:  0.8887\n"
          ],
          "name": "stdout"
        }
      ]
    },
    {
      "metadata": {
        "id": "tcx9XNkb27kP",
        "colab_type": "text"
      },
      "cell_type": "markdown",
      "source": [
        "**model.predict** returns a list of lists, one for each image in the batch of data. \n",
        "\n",
        "We can predict the class for new data instances using our finalized classification model in Keras using the **predict_classes()** function. Note that this function is only available on Sequential models, not those models developed using the functional API.\n",
        "\n",
        "\n",
        "\n"
      ]
    },
    {
      "metadata": {
        "id": "-4CVEy-fIS8m",
        "colab_type": "code",
        "colab": {}
      },
      "cell_type": "code",
      "source": [
        "predictions = model.predict_classes(X_test)\n",
        "\n",
        "predictions = list(predictions)\n",
        "actuals = list(y_test)\n",
        "\n",
        "\n",
        "#predicted_classes = model.predict_classes(X_test)\n",
        "\n",
        "# Check which items we got right / wrong\n",
        "correct_indices = np.nonzero(predictions == y_test)[0]\n",
        "incorrect_indices = np.nonzero(predictions != y_test)[0]\n"
      ],
      "execution_count": 0,
      "outputs": []
    },
    {
      "metadata": {
        "id": "CE2G0IGcInm6",
        "colab_type": "code",
        "outputId": "00be162f-3d1c-4ddc-bc5f-c6ea99a20a6c",
        "colab": {
          "base_uri": "https://localhost:8080/",
          "height": 294
        }
      },
      "cell_type": "code",
      "source": [
        "#history = model.fit(x, y, validation_split=0.25, epochs=50, batch_size=16, verbose=1)\n",
        "plt.plot(history.history['acc'])\n",
        "plt.plot(history.history['val_acc'])\n",
        "plt.title('model accuracy')\n",
        "plt.ylabel('accuracy')\n",
        "plt.xlabel('epoch')\n",
        "plt.legend(['train', 'test'], loc='upper left')\n",
        "plt.show()"
      ],
      "execution_count": 40,
      "outputs": [
        {
          "output_type": "display_data",
          "data": {
            "image/png": "[encoded data removed]",
            "text/plain": [
              "<Figure size 432x288 with 1 Axes>"
            ]
          },
          "metadata": {
            "tags": []
          }
        }
      ]
    },
    {
      "metadata": {
        "id": "ZdZTyC4CKLNV",
        "colab_type": "code",
        "outputId": "daa9d62f-649f-49a6-94fe-cbe7b22b83ea",
        "colab": {
          "base_uri": "https://localhost:8080/",
          "height": 294
        }
      },
      "cell_type": "code",
      "source": [
        "plt.plot(history.history['loss'])\n",
        "plt.plot(history.history['val_loss'])\n",
        "plt.title('model loss')\n",
        "plt.ylabel('loss')\n",
        "plt.xlabel('epoch')\n",
        "plt.legend(['train', 'test'], loc='upper left')\n",
        "plt.show()"
      ],
      "execution_count": 41,
      "outputs": [
        {
          "output_type": "display_data",
          "data": {
            "image/png": "[encoded data removed]",
            "text/plain": [
              "<Figure size 432x288 with 1 Axes>"
            ]
          },
          "metadata": {
            "tags": []
          }
        }
      ]
    },
    {
      "metadata": {
        "id": "u77MQ_g5KLwq",
        "colab_type": "code",
        "outputId": "ce38b4c7-50b5-4aa7-e4fd-be03340635bb",
        "colab": {
          "base_uri": "https://localhost:8080/",
          "height": 543
        }
      },
      "cell_type": "code",
      "source": [
        "plt.figure()\n",
        "for i, correct in enumerate(correct_indices[:9]):\n",
        "    plt.subplot(3,3,i+1)\n",
        "    plt.imshow(X_test[correct].reshape(28,28), cmap='gray', interpolation='none')\n",
        "    plt.title(\"Predicted {}, Class {}\".format(predictions[correct], y_test[correct]))\n",
        "    \n",
        "plt.figure()\n",
        "for i, incorrect in enumerate(incorrect_indices[:9]):\n",
        "    plt.subplot(3,3,i+1)\n",
        "    plt.imshow(X_test[incorrect].reshape(28,28), cmap='gray', interpolation='none')\n",
        "    plt.title(\"Predicted {}, Class {}\".format(predictions[incorrect], y_test[incorrect]))"
      ],
      "execution_count": 42,
      "outputs": [
        {
          "output_type": "display_data",
          "data": {
            "image/png": "[encoded data removed]",
            "text/plain": [
              "<Figure size 432x288 with 9 Axes>"
            ]
          },
          "metadata": {
            "tags": []
          }
        },
        {
          "output_type": "display_data",
          "data": {
            "image/png": "[encoded data removed]",
            "text/plain": [
              "<Figure size 432x288 with 9 Axes>"
            ]
          },
          "metadata": {
            "tags": []
          }
        }
      ]
    },
    {
      "metadata": {
        "id": "tW21ZfmpL160",
        "colab_type": "code",
        "colab": {}
      },
      "cell_type": "code",
      "source": [
        ""
      ],
      "execution_count": 0,
      "outputs": []
    },
    {
      "metadata": {
        "id": "6K8SsJLu18YI",
        "colab_type": "text"
      },
      "cell_type": "markdown",
      "source": [
        "## Good Resources for Deep Learning and Machine Learning\n",
        "\n",
        "**Deep learning Tutorial**: https://www.tensorflow.org/tutorials/keras/basic_classification\n",
        "\n",
        "**Keras Documentation**: https://keras.io/\n",
        "\n",
        "\n",
        "Stanford CS231n course with lecture videos on YouTube: http://cs231n.github.io/\n",
        "\n",
        "**Python Machine Learning** by Sebastian Raschka\n",
        "\n",
        "**Andrew Ng's Coursera course** https://www.coursera.org/learn/machine-learning\n",
        "\n",
        "**Machine Learning Mastery** - has a lot of good free articles with working code.\n",
        "\n",
        "\n",
        "## Questions?\n",
        "\n",
        "## Contact\n",
        "AIS: contact@aisutd.org Presented by Maitreyee Mhasakar Coding : Soumya Sourav, Maitreyee Mhasakar, Amol Mavuduru\n",
        "\n",
        "\n"
      ]
    }
  ]
}
